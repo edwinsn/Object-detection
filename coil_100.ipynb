{
  "nbformat": 4,
  "nbformat_minor": 0,
  "metadata": {
    "colab": {
      "name": "coil-100.ipynb",
      "provenance": [],
      "collapsed_sections": [],
      "mount_file_id": "1GPglCVIFrRzyAaGMjxsBfLubqL94C-_D",
      "authorship_tag": "ABX9TyNNh5eJnVGQQWdfd2FfGq46",
      "include_colab_link": true
    },
    "kernelspec": {
      "name": "python3",
      "display_name": "Python 3"
    },
    "language_info": {
      "name": "python"
    }
  },
  "cells": [
    {
      "cell_type": "markdown",
      "metadata": {
        "id": "view-in-github",
        "colab_type": "text"
      },
      "source": [
        "<a href=\"https://colab.research.google.com/github/edwinsn/Object-detection/blob/main/coil_100.ipynb\" target=\"_parent\"><img src=\"https://colab.research.google.com/assets/colab-badge.svg\" alt=\"Open In Colab\"/></a>"
      ]
    },
    {
      "cell_type": "code",
      "metadata": {
        "id": "9UonLV49XVmK"
      },
      "source": [
        "%tensorflow_version 2.x\n",
        "from matplotlib import pyplot as plt\n",
        "from tensorflow.keras import models,backend,layers,models\n",
        "from tensorflow.keras.optimizers import SGD\n",
        "from tensorflow.keras.applications import VGG16\n",
        "from tensorflow.keras.applications.vgg16 import preprocess_input\n",
        "from keras.callbacks import EarlyStopping\n",
        "import numpy as np\n",
        "from sklearn.model_selection import train_test_split\n",
        "from os import scandir\n",
        "from tensorflow.keras.preprocessing.image import load_img, img_to_array\n",
        "import os\n",
        "\n",
        "# replace with the database's path \n",
        "path=\"/content/drive/MyDrive/coil-100/\"\n",
        "files=[]\n",
        "i=0\n",
        "for arc in os.listdir(path):\n",
        "  i+=1\n",
        "  if arc[-1]==\"g\" and i%5==0:\n",
        "    files.append(arc)\n",
        "\n",
        "files.sort()\n",
        "files=files[:300]"
      ],
      "execution_count": 11,
      "outputs": []
    },
    {
      "cell_type": "code",
      "metadata": {
        "colab": {
          "base_uri": "https://localhost:8080/",
          "height": 52
        },
        "id": "i6N52ZIQXdoC",
        "outputId": "08bda750-e99e-48d9-8938-2bef7a1d4776"
      },
      "source": [
        "#guardado de imagenes\n",
        "\n",
        "x=[]\n",
        "y=[]\n",
        "\n",
        "for fil in files:\n",
        "  image = load_img(path+fil, target_size=(224, 224))\n",
        "  image = img_to_array(image)\n",
        "  image = image.reshape((image.shape[0], image.shape[1], image.shape[2]))\n",
        "\n",
        "  x.append(image)\n",
        "  label=fil.split(\"_\")[0]\n",
        "  label=label.split(\"j\")[1]\n",
        "  y.append( int(label) )\n",
        "\n",
        "#codificación de etiquetas\n",
        "\n",
        "\n",
        "xTrain, xTest, yTrain, yTest = train_test_split(x,y, test_size=0.2)\n",
        "\n",
        "xTrain= np.array(xTrain)\n",
        "yTrain=  np.array(yTrain)\n",
        "xTest= np.array(xTest)\n",
        "yTest=  np.array(yTest)\n",
        "\n",
        "\n",
        "plt.figure(figsize=(18,18))\n",
        "\n",
        "# for image,label,i in zip(xTrain,yTrain,range(10)):\n",
        "#   print(label)\n",
        "#   plt.subplot(10,1,i+1)\n",
        "#   plt.imshow(image,cmap='binary')"
      ],
      "execution_count": 3,
      "outputs": [
        {
          "output_type": "execute_result",
          "data": {
            "text/plain": [
              "<Figure size 1296x1296 with 0 Axes>"
            ]
          },
          "metadata": {},
          "execution_count": 3
        },
        {
          "output_type": "display_data",
          "data": {
            "text/plain": [
              "<Figure size 1296x1296 with 0 Axes>"
            ]
          },
          "metadata": {}
        }
      ]
    },
    {
      "cell_type": "code",
      "metadata": {
        "id": "yLzQo4FRXsB5"
      },
      "source": [
        "model=models.Sequential([\n",
        "                               layers.Conv2D(40,kernel_size=3,strides=1,padding='same',activation='relu',kernel_initializer='he_uniform',input_shape=(224,224,3)),\n",
        "                               layers.MaxPool2D(pool_size=2),\n",
        "                               layers.Conv2D(80,kernel_size=3,strides=1,padding='valid',activation='relu',kernel_initializer='he_uniform'),\n",
        "                               layers.MaxPool2D(pool_size=2),\n",
        "                               layers.Conv2D(100,kernel_size=3,strides=2,padding='valid',activation='relu',kernel_initializer='he_uniform'),\n",
        "                               layers.MaxPool2D(pool_size=2),\n",
        "                               layers.Flatten(),\n",
        "                               layers.Dense(50,activation='relu',kernel_initializer='he_uniform'),\n",
        "                               layers.Dense(20,activation='relu',kernel_initializer='he_uniform'),\n",
        "                               layers.Dense(101,activation='softmax')\n",
        "])\n",
        "\n",
        "model.compile('adam',loss='sparse_categorical_crossentropy',metrics=['acc'])\n"
      ],
      "execution_count": 4,
      "outputs": []
    },
    {
      "cell_type": "code",
      "metadata": {
        "colab": {
          "base_uri": "https://localhost:8080/"
        },
        "id": "Q4ENsTCuXvU3",
        "outputId": "50370673-bdb9-4782-e950-0f56191d4cc9"
      },
      "source": [
        "history=model.fit(xTrain,yTrain,epochs=20,validation_data=(xTest,yTest))"
      ],
      "execution_count": 5,
      "outputs": [
        {
          "output_type": "stream",
          "text": [
            "Epoch 1/20\n",
            "8/8 [==============================] - 24s 3s/step - loss: 104.3695 - acc: 0.0167 - val_loss: 7.7702 - val_acc: 0.0833\n",
            "Epoch 2/20\n",
            "8/8 [==============================] - 23s 3s/step - loss: 5.0136 - acc: 0.0625 - val_loss: 4.0837 - val_acc: 0.0667\n",
            "Epoch 3/20\n",
            "8/8 [==============================] - 23s 3s/step - loss: 3.9811 - acc: 0.0667 - val_loss: 3.5863 - val_acc: 0.1667\n",
            "Epoch 4/20\n",
            "8/8 [==============================] - 23s 3s/step - loss: 3.1521 - acc: 0.2458 - val_loss: 3.1722 - val_acc: 0.2000\n",
            "Epoch 5/20\n",
            "8/8 [==============================] - 23s 3s/step - loss: 2.0386 - acc: 0.4625 - val_loss: 2.1167 - val_acc: 0.4667\n",
            "Epoch 6/20\n",
            "8/8 [==============================] - 23s 3s/step - loss: 1.2891 - acc: 0.6667 - val_loss: 1.6168 - val_acc: 0.6000\n",
            "Epoch 7/20\n",
            "8/8 [==============================] - 23s 3s/step - loss: 0.9682 - acc: 0.7083 - val_loss: 1.8805 - val_acc: 0.5333\n",
            "Epoch 8/20\n",
            "8/8 [==============================] - 23s 3s/step - loss: 0.9265 - acc: 0.7500 - val_loss: 1.3213 - val_acc: 0.6500\n",
            "Epoch 9/20\n",
            "8/8 [==============================] - 23s 3s/step - loss: 0.8120 - acc: 0.7708 - val_loss: 1.7332 - val_acc: 0.6000\n",
            "Epoch 10/20\n",
            "8/8 [==============================] - 23s 3s/step - loss: 0.7575 - acc: 0.8042 - val_loss: 1.5063 - val_acc: 0.6833\n",
            "Epoch 11/20\n",
            "8/8 [==============================] - 23s 3s/step - loss: 0.6330 - acc: 0.8625 - val_loss: 1.3921 - val_acc: 0.6833\n",
            "Epoch 12/20\n",
            "8/8 [==============================] - 23s 3s/step - loss: 0.5660 - acc: 0.8750 - val_loss: 1.1887 - val_acc: 0.7000\n",
            "Epoch 13/20\n",
            "8/8 [==============================] - 23s 3s/step - loss: 0.5023 - acc: 0.8875 - val_loss: 0.9686 - val_acc: 0.7500\n",
            "Epoch 14/20\n",
            "8/8 [==============================] - 23s 3s/step - loss: 0.4450 - acc: 0.8917 - val_loss: 0.8978 - val_acc: 0.7333\n",
            "Epoch 15/20\n",
            "8/8 [==============================] - 23s 3s/step - loss: 0.4189 - acc: 0.8917 - val_loss: 0.9185 - val_acc: 0.7833\n",
            "Epoch 16/20\n",
            "8/8 [==============================] - 23s 3s/step - loss: 0.3567 - acc: 0.9000 - val_loss: 0.8149 - val_acc: 0.7667\n",
            "Epoch 17/20\n",
            "8/8 [==============================] - 23s 3s/step - loss: 0.3232 - acc: 0.9000 - val_loss: 0.7923 - val_acc: 0.7833\n",
            "Epoch 18/20\n",
            "8/8 [==============================] - 23s 3s/step - loss: 0.2836 - acc: 0.9208 - val_loss: 0.8616 - val_acc: 0.7667\n",
            "Epoch 19/20\n",
            "8/8 [==============================] - 23s 3s/step - loss: 0.2651 - acc: 0.9292 - val_loss: 0.8624 - val_acc: 0.7667\n",
            "Epoch 20/20\n",
            "8/8 [==============================] - 23s 3s/step - loss: 0.2595 - acc: 0.9333 - val_loss: 0.9788 - val_acc: 0.7500\n"
          ],
          "name": "stdout"
        }
      ]
    },
    {
      "cell_type": "code",
      "metadata": {
        "id": "6toui5q4XyUN",
        "colab": {
          "base_uri": "https://localhost:8080/",
          "height": 374
        },
        "outputId": "245f9340-e0b9-4071-c837-1f98ecd7580e"
      },
      "source": [
        "plt.figure(figsize=(10,6))\n",
        "\n",
        "plt.plot(history.history['acc'], label='Entrenamiento')\n",
        "plt.plot(history.history['val_acc'], label='prueba')\n",
        "plt.legend()\n",
        "plt.show()"
      ],
      "execution_count": 16,
      "outputs": [
        {
          "output_type": "display_data",
          "data": {
            "image/png": "[encoded data removed]",
            "text/plain": [
              "<Figure size 720x432 with 1 Axes>"
            ]
          },
          "metadata": {
            "needs_background": "light"
          }
        }
      ]
    }
  ]
}