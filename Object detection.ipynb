{
  "nbformat": 4,
  "nbformat_minor": 0,
  "metadata": {
    "colab": {
      "name": "coil-100.ipynb",
      "provenance": [],
      "collapsed_sections": []
    },
    "kernelspec": {
      "name": "python3",
      "display_name": "Python 3"
    },
    "language_info": {
      "name": "python"
    }
  },
  "cells": [
    {
      "cell_type": "code",
      "metadata": {
        "colab": {
          "base_uri": "https://localhost:8080/"
        },
        "id": "9UonLV49XVmK",
        "outputId": "48099760-dabb-40db-9cff-4ba1ab99ebe2"
      },
      "source": [
        "%tensorflow_version 2.x\n",
        "from matplotlib import pyplot as plt\n",
        "from tensorflow.keras import models,backend,layers,models\n",
        "from tensorflow.keras.optimizers import SGD\n",
        "from tensorflow.keras.applications import VGG16\n",
        "from tensorflow.keras.applications.vgg16 import preprocess_input\n",
        "from keras.callbacks import EarlyStopping\n",
        "import numpy as np\n",
        "from sklearn.model_selection import train_test_split\n",
        "from os import scandir\n",
        "from tensorflow.keras.preprocessing.image import load_img, img_to_array\n",
        "import os\n",
        "\n",
        "# replace with the database's path \n",
        "path=\"/content/drive/MyDrive/coil-100/\"\n",
        "files=[]\n",
        "i=0\n",
        "for arc in os.listdir(path):\n",
        "  i+=1\n",
        "  if arc[-1]==\"g\" and i%5==0:\n",
        "    files.append(arc)\n",
        "\n",
        "files.sort()\n",
        "files=files[:300]\n",
        "print(files)"
      ],
      "execution_count": 2,
      "outputs": [
        {
          "output_type": "stream",
          "text": [
            "['obj100__105.png', 'obj100__115.png', 'obj100__135.png', 'obj100__150.png', 'obj100__255.png', 'obj100__290.png', 'obj100__30.png', 'obj100__35.png', 'obj100__50.png', 'obj100__70.png', 'obj100__90.png', 'obj10__0.png', 'obj10__120.png', 'obj10__160.png', 'obj10__175.png', 'obj10__195.png', 'obj10__20.png', 'obj10__215.png', 'obj10__225.png', 'obj10__305.png', 'obj10__320.png', 'obj10__340.png', 'obj10__5.png', 'obj10__75.png', 'obj10__80.png', 'obj11__120.png', 'obj11__125.png', 'obj11__140.png', 'obj11__145.png', 'obj11__15.png', 'obj11__160.png', 'obj11__175.png', 'obj11__185.png', 'obj11__195.png', 'obj11__215.png', 'obj11__230.png', 'obj11__240.png', 'obj11__265.png', 'obj11__330.png', 'obj11__95.png', 'obj12__10.png', 'obj12__100.png', 'obj12__110.png', 'obj12__125.png', 'obj12__135.png', 'obj12__195.png', 'obj12__250.png', 'obj12__260.png', 'obj12__265.png', 'obj12__315.png', 'obj12__355.png', 'obj12__40.png', 'obj12__50.png', 'obj12__55.png', 'obj13__115.png', 'obj13__130.png', 'obj13__140.png', 'obj13__15.png', 'obj13__195.png', 'obj13__20.png', 'obj13__220.png', 'obj13__255.png', 'obj13__260.png', 'obj13__330.png', 'obj13__350.png', 'obj13__355.png', 'obj13__65.png', 'obj13__90.png', 'obj14__0.png', 'obj14__100.png', 'obj14__155.png', 'obj14__190.png', 'obj14__195.png', 'obj14__235.png', 'obj14__245.png', 'obj14__25.png', 'obj14__280.png', 'obj14__285.png', 'obj14__290.png', 'obj14__305.png', 'obj14__310.png', 'obj14__340.png', 'obj14__350.png', 'obj14__5.png', 'obj14__50.png', 'obj14__65.png', 'obj15__0.png', 'obj15__10.png', 'obj15__125.png', 'obj15__130.png', 'obj15__150.png', 'obj15__170.png', 'obj15__240.png', 'obj15__250.png', 'obj15__265.png', 'obj15__30.png', 'obj15__305.png', 'obj15__350.png', 'obj15__355.png', 'obj15__65.png', 'obj16__120.png', 'obj16__125.png', 'obj16__230.png', 'obj16__285.png', 'obj16__310.png', 'obj16__320.png', 'obj16__340.png', 'obj16__345.png', 'obj16__35.png', 'obj16__40.png', 'obj16__5.png', 'obj16__90.png', 'obj17__115.png', 'obj17__120.png', 'obj17__165.png', 'obj17__175.png', 'obj17__195.png', 'obj17__205.png', 'obj17__210.png', 'obj17__280.png', 'obj17__285.png', 'obj17__35.png', 'obj17__350.png', 'obj17__355.png', 'obj17__90.png', 'obj18__105.png', 'obj18__145.png', 'obj18__15.png', 'obj18__175.png', 'obj18__190.png', 'obj18__210.png', 'obj18__220.png', 'obj18__240.png', 'obj18__245.png', 'obj18__270.png', 'obj18__285.png', 'obj18__300.png', 'obj18__335.png', 'obj18__45.png', 'obj18__50.png', 'obj18__60.png', 'obj18__85.png', 'obj19__125.png', 'obj19__150.png', 'obj19__165.png', 'obj19__190.png', 'obj19__195.png', 'obj19__20.png', 'obj19__205.png', 'obj19__220.png', 'obj19__230.png', 'obj19__25.png', 'obj19__255.png', 'obj19__285.png', 'obj19__290.png', 'obj19__305.png', 'obj19__315.png', 'obj19__330.png', 'obj19__335.png', 'obj19__340.png', 'obj19__5.png', 'obj19__65.png', 'obj19__70.png', 'obj1__120.png', 'obj1__150.png', 'obj1__155.png', 'obj1__20.png', 'obj1__205.png', 'obj1__255.png', 'obj1__295.png', 'obj1__340.png', 'obj1__50.png', 'obj1__55.png', 'obj20__115.png', 'obj20__130.png', 'obj20__15.png', 'obj20__190.png', 'obj20__240.png', 'obj20__245.png', 'obj20__25.png', 'obj20__265.png', 'obj20__295.png', 'obj20__305.png', 'obj20__315.png', 'obj20__320.png', 'obj20__325.png', 'obj20__45.png', 'obj20__70.png', 'obj21__130.png', 'obj21__145.png', 'obj21__155.png', 'obj21__165.png', 'obj21__20.png', 'obj21__200.png', 'obj21__205.png', 'obj21__215.png', 'obj21__25.png', 'obj21__250.png', 'obj21__295.png', 'obj21__315.png', 'obj21__345.png', 'obj21__95.png', 'obj22__10.png', 'obj22__110.png', 'obj22__130.png', 'obj22__155.png', 'obj22__215.png', 'obj22__220.png', 'obj22__230.png', 'obj22__25.png', 'obj22__275.png', 'obj22__330.png', 'obj22__40.png', 'obj22__50.png', 'obj22__55.png', 'obj22__65.png', 'obj22__80.png', 'obj23__0.png', 'obj23__110.png', 'obj23__120.png', 'obj23__125.png', 'obj23__180.png', 'obj23__20.png', 'obj23__205.png', 'obj23__215.png', 'obj23__220.png', 'obj23__235.png', 'obj23__270.png', 'obj23__305.png', 'obj23__355.png', 'obj23__65.png', 'obj23__70.png', 'obj23__85.png', 'obj24__105.png', 'obj24__115.png', 'obj24__140.png', 'obj24__150.png', 'obj24__175.png', 'obj24__180.png', 'obj24__185.png', 'obj24__190.png', 'obj24__205.png', 'obj24__230.png', 'obj24__240.png', 'obj24__260.png', 'obj24__30.png', 'obj24__300.png', 'obj24__35.png', 'obj24__80.png', 'obj25__100.png', 'obj25__125.png', 'obj25__135.png', 'obj25__20.png', 'obj25__200.png', 'obj25__235.png', 'obj25__245.png', 'obj25__255.png', 'obj25__265.png', 'obj25__270.png', 'obj25__295.png', 'obj25__300.png', 'obj25__325.png', 'obj26__0.png', 'obj26__105.png', 'obj26__110.png', 'obj26__145.png', 'obj26__180.png', 'obj26__200.png', 'obj26__210.png', 'obj26__245.png', 'obj26__250.png', 'obj26__270.png', 'obj26__290.png', 'obj26__30.png', 'obj26__310.png', 'obj26__320.png', 'obj26__340.png', 'obj26__35.png', 'obj26__65.png', 'obj26__85.png', 'obj27__10.png', 'obj27__100.png', 'obj27__105.png', 'obj27__110.png', 'obj27__125.png', 'obj27__130.png', 'obj27__170.png', 'obj27__250.png', 'obj27__310.png', 'obj27__320.png', 'obj27__35.png', 'obj27__355.png', 'obj27__40.png', 'obj27__60.png', 'obj27__80.png', 'obj28__0.png', 'obj28__10.png', 'obj28__105.png', 'obj28__135.png', 'obj28__210.png']\n"
          ],
          "name": "stdout"
        }
      ]
    },
    {
      "cell_type": "code",
      "metadata": {
        "colab": {
          "base_uri": "https://localhost:8080/",
          "height": 52
        },
        "id": "i6N52ZIQXdoC",
        "outputId": "08bda750-e99e-48d9-8938-2bef7a1d4776"
      },
      "source": [
        "#guardado de imagenes\n",
        "\n",
        "x=[]\n",
        "y=[]\n",
        "\n",
        "for fil in files:\n",
        "  image = load_img(path+fil, target_size=(224, 224))\n",
        "  image = img_to_array(image)\n",
        "  image = image.reshape((image.shape[0], image.shape[1], image.shape[2]))\n",
        "\n",
        "  x.append(image)\n",
        "  label=fil.split(\"_\")[0]\n",
        "  label=label.split(\"j\")[1]\n",
        "  y.append( int(label) )\n",
        "\n",
        "#codificación de etiquetas\n",
        "\n",
        "\n",
        "xTrain, xTest, yTrain, yTest = train_test_split(x,y, test_size=0.2)\n",
        "\n",
        "xTrain= np.array(xTrain)\n",
        "yTrain=  np.array(yTrain)\n",
        "xTest= np.array(xTest)\n",
        "yTest=  np.array(yTest)\n",
        "\n",
        "\n",
        "plt.figure(figsize=(18,18))\n",
        "\n",
        "# for image,label,i in zip(xTrain,yTrain,range(10)):\n",
        "#   print(label)\n",
        "#   plt.subplot(10,1,i+1)\n",
        "#   plt.imshow(image,cmap='binary')"
      ],
      "execution_count": 3,
      "outputs": [
        {
          "output_type": "execute_result",
          "data": {
            "text/plain": [
              "<Figure size 1296x1296 with 0 Axes>"
            ]
          },
          "metadata": {},
          "execution_count": 3
        },
        {
          "output_type": "display_data",
          "data": {
            "text/plain": [
              "<Figure size 1296x1296 with 0 Axes>"
            ]
          },
          "metadata": {}
        }
      ]
    },
    {
      "cell_type": "code",
      "metadata": {
        "id": "yLzQo4FRXsB5"
      },
      "source": [
        "model=models.Sequential([\n",
        "                               layers.Conv2D(40,kernel_size=3,strides=1,padding='same',activation='relu',kernel_initializer='he_uniform',input_shape=(224,224,3)),\n",
        "                               layers.MaxPool2D(pool_size=2),\n",
        "                               layers.Conv2D(80,kernel_size=3,strides=1,padding='valid',activation='relu',kernel_initializer='he_uniform'),\n",
        "                               layers.MaxPool2D(pool_size=2),\n",
        "                               layers.Conv2D(100,kernel_size=3,strides=2,padding='valid',activation='relu',kernel_initializer='he_uniform'),\n",
        "                               layers.MaxPool2D(pool_size=2),\n",
        "                               layers.Flatten(),\n",
        "                               layers.Dense(50,activation='relu',kernel_initializer='he_uniform'),\n",
        "                               layers.Dense(20,activation='relu',kernel_initializer='he_uniform'),\n",
        "                               layers.Dense(101,activation='softmax')\n",
        "])\n",
        "\n",
        "model.compile('adam',loss='sparse_categorical_crossentropy',metrics=['acc'])\n"
      ],
      "execution_count": 4,
      "outputs": []
    },
    {
      "cell_type": "code",
      "metadata": {
        "colab": {
          "base_uri": "https://localhost:8080/"
        },
        "id": "Q4ENsTCuXvU3",
        "outputId": "50370673-bdb9-4782-e950-0f56191d4cc9"
      },
      "source": [
        "history=model.fit(xTrain,yTrain,epochs=20,validation_data=(xTest,yTest))"
      ],
      "execution_count": 5,
      "outputs": [
        {
          "output_type": "stream",
          "text": [
            "Epoch 1/20\n",
            "8/8 [==============================] - 24s 3s/step - loss: 104.3695 - acc: 0.0167 - val_loss: 7.7702 - val_acc: 0.0833\n",
            "Epoch 2/20\n",
            "8/8 [==============================] - 23s 3s/step - loss: 5.0136 - acc: 0.0625 - val_loss: 4.0837 - val_acc: 0.0667\n",
            "Epoch 3/20\n",
            "8/8 [==============================] - 23s 3s/step - loss: 3.9811 - acc: 0.0667 - val_loss: 3.5863 - val_acc: 0.1667\n",
            "Epoch 4/20\n",
            "8/8 [==============================] - 23s 3s/step - loss: 3.1521 - acc: 0.2458 - val_loss: 3.1722 - val_acc: 0.2000\n",
            "Epoch 5/20\n",
            "8/8 [==============================] - 23s 3s/step - loss: 2.0386 - acc: 0.4625 - val_loss: 2.1167 - val_acc: 0.4667\n",
            "Epoch 6/20\n",
            "8/8 [==============================] - 23s 3s/step - loss: 1.2891 - acc: 0.6667 - val_loss: 1.6168 - val_acc: 0.6000\n",
            "Epoch 7/20\n",
            "8/8 [==============================] - 23s 3s/step - loss: 0.9682 - acc: 0.7083 - val_loss: 1.8805 - val_acc: 0.5333\n",
            "Epoch 8/20\n",
            "8/8 [==============================] - 23s 3s/step - loss: 0.9265 - acc: 0.7500 - val_loss: 1.3213 - val_acc: 0.6500\n",
            "Epoch 9/20\n",
            "8/8 [==============================] - 23s 3s/step - loss: 0.8120 - acc: 0.7708 - val_loss: 1.7332 - val_acc: 0.6000\n",
            "Epoch 10/20\n",
            "8/8 [==============================] - 23s 3s/step - loss: 0.7575 - acc: 0.8042 - val_loss: 1.5063 - val_acc: 0.6833\n",
            "Epoch 11/20\n",
            "8/8 [==============================] - 23s 3s/step - loss: 0.6330 - acc: 0.8625 - val_loss: 1.3921 - val_acc: 0.6833\n",
            "Epoch 12/20\n",
            "8/8 [==============================] - 23s 3s/step - loss: 0.5660 - acc: 0.8750 - val_loss: 1.1887 - val_acc: 0.7000\n",
            "Epoch 13/20\n",
            "8/8 [==============================] - 23s 3s/step - loss: 0.5023 - acc: 0.8875 - val_loss: 0.9686 - val_acc: 0.7500\n",
            "Epoch 14/20\n",
            "8/8 [==============================] - 23s 3s/step - loss: 0.4450 - acc: 0.8917 - val_loss: 0.8978 - val_acc: 0.7333\n",
            "Epoch 15/20\n",
            "8/8 [==============================] - 23s 3s/step - loss: 0.4189 - acc: 0.8917 - val_loss: 0.9185 - val_acc: 0.7833\n",
            "Epoch 16/20\n",
            "8/8 [==============================] - 23s 3s/step - loss: 0.3567 - acc: 0.9000 - val_loss: 0.8149 - val_acc: 0.7667\n",
            "Epoch 17/20\n",
            "8/8 [==============================] - 23s 3s/step - loss: 0.3232 - acc: 0.9000 - val_loss: 0.7923 - val_acc: 0.7833\n",
            "Epoch 18/20\n",
            "8/8 [==============================] - 23s 3s/step - loss: 0.2836 - acc: 0.9208 - val_loss: 0.8616 - val_acc: 0.7667\n",
            "Epoch 19/20\n",
            "8/8 [==============================] - 23s 3s/step - loss: 0.2651 - acc: 0.9292 - val_loss: 0.8624 - val_acc: 0.7667\n",
            "Epoch 20/20\n",
            "8/8 [==============================] - 23s 3s/step - loss: 0.2595 - acc: 0.9333 - val_loss: 0.9788 - val_acc: 0.7500\n"
          ],
          "name": "stdout"
        }
      ]
    },
    {
      "cell_type": "code",
      "metadata": {
        "id": "6toui5q4XyUN",
        "colab": {
          "base_uri": "https://localhost:8080/",
          "height": 318
        },
        "outputId": "c02c8103-2589-4de3-d8c1-24ada7c25e8e"
      },
      "source": [
        "plt.figure(figsize=(10,8))\n",
        "plt.subplot(211)\n",
        "plt.plot(history.history['acc'], label='Entrenamiento')\n",
        "plt.subplot(211)\n",
        "plt.plot(history.history['val_acc'], label='prueba')"
      ],
      "execution_count": 10,
      "outputs": [
        {
          "output_type": "stream",
          "text": [
            "/usr/local/lib/python3.7/dist-packages/ipykernel_launcher.py:4: MatplotlibDeprecationWarning: Adding an axes using the same arguments as a previous axes currently reuses the earlier instance.  In a future version, a new instance will always be created and returned.  Meanwhile, this warning can be suppressed, and the future behavior ensured, by passing a unique label to each axes instance.\n",
            "  after removing the cwd from sys.path.\n"
          ],
          "name": "stderr"
        },
        {
          "output_type": "execute_result",
          "data": {
            "text/plain": [
              "[<matplotlib.lines.Line2D at 0x7f59e7262050>]"
            ]
          },
          "metadata": {},
          "execution_count": 10
        },
        {
          "output_type": "display_data",
          "data": {
            "image/png": "[encoded data removed]",
            "text/plain": [
              "<Figure size 720x576 with 1 Axes>"
            ]
          },
          "metadata": {
            "needs_background": "light"
          }
        }
      ]
    }
  ]
}